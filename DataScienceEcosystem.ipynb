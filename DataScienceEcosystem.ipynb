{
 "cells": [
  {
   "attachments": {},
   "cell_type": "markdown",
   "metadata": {},
   "source": [
    "<h1>Data Science Tools and Ecosystem</h1>"
   ]
  },
  {
   "attachments": {},
   "cell_type": "markdown",
   "metadata": {},
   "source": [
    "In this notebook, Data Science Tools and Ecosystem are summarized."
   ]
  },
  {
   "attachments": {},
   "cell_type": "markdown",
   "metadata": {},
   "source": [
    "Objectives:\n",
    "\n",
    "- List popular languages and tools for Data Science\n",
    "- Understand basic arithmetic expressions in Python\n",
    "- Use built-in Python functions for math operations\n",
    "- Convert data types in Python\n",
    "- Perform indexing and slicing on Python lists\n",
    "- Implement conditional statements and loops in Python\n",
    "- Introduce and apply functions in Python"
   ]
  },
  {
   "attachments": {},
   "cell_type": "markdown",
   "metadata": {},
   "source": [
    "Some of the popular languages that Data Scientists use are:\n",
    "\n",
    "1. Python - It is one of the most widely used programming languages in data science. Python has a simple syntax and a vast collection of libraries, making it easy to implement complex algorithms and manipulate large datasets.\n",
    "\n",
    "2. R - R is another popular language for data science. It has a strong focus on statistical analysis and is widely used for data visualization, data mining, and machine learning.\n",
    "\n",
    "3. SQL - Structured Query Language (SQL) is a language used for managing and manipulating relational databases. It is a necessary tool for data scientists, who often work with large databases.\n",
    "\n",
    "4. Julia - Julia is a newer language that is gaining popularity among data scientists due to its high performance and ease of use.\n",
    "\n",
    "5. MATLAB - MATLAB is a numerical computing language that is often used in scientific and engineering applications. It has a large collection of libraries for machine learning and data analysis.\n",
    "\n",
    "\n",
    "\n"
   ]
  },
  {
   "attachments": {},
   "cell_type": "markdown",
   "metadata": {},
   "source": [
    "Some of the commonly used libraries used by Data Scientists include:\n",
    "\n",
    "1. NumPy: A library for working with large, multi-dimensional arrays and matrices. It provides a wide range of mathematical functions to perform operations on these arrays.\n",
    "\n",
    "2. Pandas: A library for data manipulation and analysis. It provides tools for reading and writing data in various formats, cleaning and transforming data, and performing statistical analysis.\n",
    "\n",
    "3. Scikit-learn: A library for machine learning in Python. It provides tools for data preprocessing, model selection, and evaluation, as well as a wide range of supervised and unsupervised learning algorithms.\n",
    "\n",
    "4. Matplotlib: A library for creating visualizations in Python. It provides a variety of plotting functions to create different types of charts and graphs, including line charts, scatter plots, histograms, and more.\n",
    "\n",
    "5. TensorFlow: A library for building and training deep learning models. It provides a flexible and powerful platform for creating neural networks, and supports a wide range of tasks such as image classification, natural language processing, and more."
   ]
  },
  {
   "attachments": {},
   "cell_type": "markdown",
   "metadata": {},
   "source": [
    "| Data Science Tools |\n",
    "| ------------------ |\n",
    "| Jupyter Notebook   |\n",
    "| RStudio            |\n",
    "| Apache Zeppelin    |\n"
   ]
  },
  {
   "attachments": {},
   "cell_type": "markdown",
   "metadata": {},
   "source": [
    "### Below are a few examples of evaluating arithmetic expressions in Python.\n"
   ]
  },
  {
   "cell_type": "code",
   "execution_count": 2,
   "metadata": {},
   "outputs": [
    {
     "data": {
      "text/plain": [
       "17"
      ]
     },
     "execution_count": 2,
     "metadata": {},
     "output_type": "execute_result"
    }
   ],
   "source": [
    "# This is a simple arithmetic expression to multiply then add integers.\n",
    "(3 * 4) + 5\n"
   ]
  },
  {
   "cell_type": "code",
   "execution_count": 3,
   "metadata": {},
   "outputs": [
    {
     "data": {
      "text/plain": [
       "3.3333333333333335"
      ]
     },
     "execution_count": 3,
     "metadata": {},
     "output_type": "execute_result"
    }
   ],
   "source": [
    "# This will convert 200 minutes to hours by dividing by 60.\n",
    "200 / 60\n"
   ]
  },
  {
   "cell_type": "markdown",
   "metadata": {},
   "source": [
    "## Author\n",
    "George Youhana\n"
   ]
  }
 ],
 "metadata": {
  "kernelspec": {
   "display_name": "Python 3",
   "language": "python",
   "name": "python3"
  },
  "language_info": {
   "codemirror_mode": {
    "name": "ipython",
    "version": 3
   },
   "file_extension": ".py",
   "mimetype": "text/x-python",
   "name": "python",
   "nbconvert_exporter": "python",
   "pygments_lexer": "ipython3",
   "version": "3.11.1"
  },
  "orig_nbformat": 4,
  "vscode": {
   "interpreter": {
    "hash": "1f1326518d9295b34825c0ac225fb521c82686fa5cc479e8e6d3ba13e0b920de"
   }
  }
 },
 "nbformat": 4,
 "nbformat_minor": 2
}
